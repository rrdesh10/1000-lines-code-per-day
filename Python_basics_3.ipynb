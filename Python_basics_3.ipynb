{
 "cells": [
  {
   "cell_type": "markdown",
   "id": "74a2ec00",
   "metadata": {},
   "source": [
    "## Internet Access"
   ]
  },
  {
   "cell_type": "code",
   "execution_count": 2,
   "id": "7fde7bf6",
   "metadata": {},
   "outputs": [
    {
     "name": "stdout",
     "output_type": "stream",
     "text": [
      "datetime: 2023-08-31T06:10:02.213961+00:00\n"
     ]
    }
   ],
   "source": [
    "# urllib module\n",
    "\n",
    "from urllib.request import urlopen\n",
    "\n",
    "with urlopen('http://worldtimeapi.org/api/timezone/etc/UTC.txt') as response:\n",
    "    for line in response:\n",
    "        line = line.decode()\n",
    "        if line.startswith('datetime'):\n",
    "            print(line.rstrip())\n",
    "        "
   ]
  },
  {
   "cell_type": "markdown",
   "id": "54a445df",
   "metadata": {},
   "source": [
    "## Date and time"
   ]
  },
  {
   "cell_type": "code",
   "execution_count": 5,
   "id": "bb6b7d67",
   "metadata": {},
   "outputs": [
    {
     "data": {
      "text/plain": [
       "datetime.date(2023, 8, 31)"
      ]
     },
     "execution_count": 5,
     "metadata": {},
     "output_type": "execute_result"
    }
   ],
   "source": [
    "from datetime import date\n",
    "now = date.today()\n",
    "now\n"
   ]
  },
  {
   "cell_type": "code",
   "execution_count": 7,
   "id": "e0b2997f",
   "metadata": {},
   "outputs": [
    {
     "data": {
      "text/plain": [
       "'31-08-23, 31 Aug 2023 is a Thursday on the 31 day of August'"
      ]
     },
     "execution_count": 7,
     "metadata": {},
     "output_type": "execute_result"
    }
   ],
   "source": [
    "now.strftime(\"%d-%m-%y, %d %b %Y is a %A on the %d day of %B\")"
   ]
  },
  {
   "cell_type": "code",
   "execution_count": 9,
   "id": "66f26979",
   "metadata": {},
   "outputs": [
    {
     "data": {
      "text/plain": [
       "10318"
      ]
     },
     "execution_count": 9,
     "metadata": {},
     "output_type": "execute_result"
    }
   ],
   "source": [
    "birthday = date(1995, 6, 1)\n",
    "age = now - birthday\n",
    "age.days"
   ]
  },
  {
   "cell_type": "markdown",
   "id": "b841eff1",
   "metadata": {},
   "source": [
    "## Data Compression"
   ]
  },
  {
   "cell_type": "code",
   "execution_count": 11,
   "id": "151b23fb",
   "metadata": {},
   "outputs": [
    {
     "data": {
      "text/plain": [
       "41"
      ]
     },
     "execution_count": 11,
     "metadata": {},
     "output_type": "execute_result"
    }
   ],
   "source": [
    "import zlib\n",
    "a = b'witch which has which witches wrist watch'\n",
    "len(a)"
   ]
  },
  {
   "cell_type": "code",
   "execution_count": 12,
   "id": "bced46ca",
   "metadata": {},
   "outputs": [],
   "source": [
    "t = zlib.compress(a)"
   ]
  },
  {
   "cell_type": "code",
   "execution_count": 14,
   "id": "77d21b72",
   "metadata": {},
   "outputs": [
    {
     "data": {
      "text/plain": [
       "37"
      ]
     },
     "execution_count": 14,
     "metadata": {},
     "output_type": "execute_result"
    }
   ],
   "source": [
    "len(t)"
   ]
  },
  {
   "cell_type": "code",
   "execution_count": 15,
   "id": "ac20c036",
   "metadata": {},
   "outputs": [
    {
     "data": {
      "text/plain": [
       "b'witch which has which witches wrist watch'"
      ]
     },
     "execution_count": 15,
     "metadata": {},
     "output_type": "execute_result"
    }
   ],
   "source": [
    "zlib.decompress(t)"
   ]
  },
  {
   "cell_type": "code",
   "execution_count": 16,
   "id": "0bcfe8dc",
   "metadata": {},
   "outputs": [
    {
     "data": {
      "text/plain": [
       "2856882265"
      ]
     },
     "execution_count": 16,
     "metadata": {},
     "output_type": "execute_result"
    }
   ],
   "source": [
    "zlib.crc32(t)"
   ]
  },
  {
   "cell_type": "markdown",
   "id": "7c90e960",
   "metadata": {},
   "source": [
    "## Performance Measurement"
   ]
  },
  {
   "cell_type": "code",
   "execution_count": 18,
   "id": "c62f77a0",
   "metadata": {},
   "outputs": [
    {
     "data": {
      "text/plain": [
       "0.06584970001131296"
      ]
     },
     "execution_count": 18,
     "metadata": {},
     "output_type": "execute_result"
    }
   ],
   "source": [
    "from timeit import Timer\n",
    "Timer('t=a; a=b; b=t', 'a=1; b=2').timeit()"
   ]
  },
  {
   "cell_type": "code",
   "execution_count": 19,
   "id": "4f1d280b",
   "metadata": {},
   "outputs": [
    {
     "data": {
      "text/plain": [
       "0.03322050004499033"
      ]
     },
     "execution_count": 19,
     "metadata": {},
     "output_type": "execute_result"
    }
   ],
   "source": [
    "Timer('a,b = b,a', 'a=4; b=5').timeit()"
   ]
  },
  {
   "cell_type": "markdown",
   "id": "5cd3f7f7",
   "metadata": {},
   "source": [
    "## unittest module"
   ]
  },
  {
   "cell_type": "code",
   "execution_count": 30,
   "id": "5e5fdb13",
   "metadata": {},
   "outputs": [
    {
     "name": "stderr",
     "output_type": "stream",
     "text": [
      "test_mixed_numbers (__main__.TestAddNumbers.test_mixed_numbers) ... ok\n",
      "test_negative_numbers (__main__.TestAddNumbers.test_negative_numbers) ... ok\n",
      "test_positive_numbers (__main__.TestAddNumbers.test_positive_numbers) ... ok\n",
      "test_avg (__main__.TestStatFunc.test_avg) ... ERROR\n",
      "\n",
      "======================================================================\n",
      "ERROR: test_avg (__main__.TestStatFunc.test_avg)\n",
      "----------------------------------------------------------------------\n",
      "Traceback (most recent call last):\n",
      "  File \"C:\\Users\\Admin\\AppData\\Local\\Temp\\ipykernel_9384\\1582456238.py\", line 6, in test_avg\n",
      "    self.assertEqual(round(average([1, 5, 7]), 1), 4.3)\n",
      "                           ^^^^^^^\n",
      "NameError: name 'average' is not defined\n",
      "\n",
      "----------------------------------------------------------------------\n",
      "Ran 4 tests in 0.011s\n",
      "\n",
      "FAILED (errors=1)\n"
     ]
    }
   ],
   "source": [
    "import unittest\n",
    "\n",
    "def add_numbers(a, b):\n",
    "    return a + b\n",
    "\n",
    "class TestAddNumbers(unittest.TestCase):\n",
    "\n",
    "    def test_positive_numbers(self):\n",
    "        result = add_numbers(3, 5)\n",
    "        self.assertEqual(result, 8)  # Check if the result is equal to the expected value\n",
    "\n",
    "    def test_negative_numbers(self):\n",
    "        result = add_numbers(-3, -5)\n",
    "        self.assertEqual(result, -8)\n",
    "\n",
    "    def test_mixed_numbers(self):\n",
    "        result = add_numbers(2, -7)\n",
    "        self.assertEqual(result, -5)\n",
    "\n",
    "\n",
    "if __name__ == \"__main__\":\n",
    "    unittest.main(argv=[''], verbosity=3, exit=False)"
   ]
  },
  {
   "cell_type": "markdown",
   "id": "02bd0043",
   "metadata": {},
   "source": [
    "## logging"
   ]
  },
  {
   "cell_type": "code",
   "execution_count": 31,
   "id": "8189485e",
   "metadata": {},
   "outputs": [
    {
     "name": "stderr",
     "output_type": "stream",
     "text": [
      "WARNING:root:Warning log\n",
      "ERROR:root:Error log\n",
      "CRITICAL:root:Critical log\n"
     ]
    }
   ],
   "source": [
    "import logging\n",
    "\n",
    "logging.debug(\"This is debug\")\n",
    "logging.info(\"Info log\")\n",
    "logging.warning(\"Warning log\")\n",
    "logging.error(\"Error log\")\n",
    "logging.critical(\"Critical log\")"
   ]
  },
  {
   "cell_type": "markdown",
   "id": "0309e459",
   "metadata": {},
   "source": [
    "## Collections"
   ]
  },
  {
   "cell_type": "code",
   "execution_count": 33,
   "id": "7f94a927",
   "metadata": {},
   "outputs": [
    {
     "data": {
      "text/plain": [
       "['music', 'art', 'opera']"
      ]
     },
     "execution_count": 33,
     "metadata": {},
     "output_type": "execute_result"
    }
   ],
   "source": [
    "import collections\n",
    "baseline = {'music': 'bach', 'art': 'rembrandt'}\n",
    "adjustments = {'art': 'van gogh', 'opera': 'carmen'}\n",
    "# ChainMap\n",
    "list(collections.ChainMap(adjustments, baseline))"
   ]
  },
  {
   "cell_type": "code",
   "execution_count": 34,
   "id": "c5d65905",
   "metadata": {},
   "outputs": [
    {
     "data": {
      "text/plain": [
       "Counter({'red': 2, 'blue': 3, 'green': 1})"
      ]
     },
     "execution_count": 34,
     "metadata": {},
     "output_type": "execute_result"
    }
   ],
   "source": [
    "#Counter\n",
    "cnt = collections.Counter()\n",
    "for word in ['red', 'blue', 'red', 'green', 'blue', 'blue']:\n",
    "    cnt[word] += 1\n",
    "    \n",
    "cnt"
   ]
  },
  {
   "cell_type": "code",
   "execution_count": 36,
   "id": "3f6b68a2",
   "metadata": {},
   "outputs": [
    {
     "data": {
      "text/plain": [
       "Counter({'a': 4, 'b': 3})"
      ]
     },
     "execution_count": 36,
     "metadata": {},
     "output_type": "execute_result"
    }
   ],
   "source": [
    "c = collections.Counter(a=3, b=1)\n",
    "d = collections.Counter(a=1, b=2)\n",
    "# add\n",
    "c + d\n"
   ]
  },
  {
   "cell_type": "code",
   "execution_count": 37,
   "id": "f7729682",
   "metadata": {},
   "outputs": [
    {
     "data": {
      "text/plain": [
       "Counter({'a': 2})"
      ]
     },
     "execution_count": 37,
     "metadata": {},
     "output_type": "execute_result"
    }
   ],
   "source": [
    "#subtraction keeps only +ve numbers\n",
    "c - d"
   ]
  },
  {
   "cell_type": "code",
   "execution_count": 38,
   "id": "aa663a6c",
   "metadata": {},
   "outputs": [
    {
     "data": {
      "text/plain": [
       "Counter({'a': 1, 'b': 1})"
      ]
     },
     "execution_count": 38,
     "metadata": {},
     "output_type": "execute_result"
    }
   ],
   "source": [
    "#intersection\n",
    "c & d"
   ]
  },
  {
   "cell_type": "code",
   "execution_count": 39,
   "id": "2e6bb96e",
   "metadata": {},
   "outputs": [
    {
     "data": {
      "text/plain": [
       "Counter({'a': 3, 'b': 2})"
      ]
     },
     "execution_count": 39,
     "metadata": {},
     "output_type": "execute_result"
    }
   ],
   "source": [
    "#union\n",
    "c | d"
   ]
  },
  {
   "cell_type": "code",
   "execution_count": 40,
   "id": "5e1dbb4c",
   "metadata": {},
   "outputs": [
    {
     "data": {
      "text/plain": [
       "False"
      ]
     },
     "execution_count": 40,
     "metadata": {},
     "output_type": "execute_result"
    }
   ],
   "source": [
    "#equallity\n",
    "c == d"
   ]
  },
  {
   "cell_type": "code",
   "execution_count": 41,
   "id": "ffd4fe38",
   "metadata": {},
   "outputs": [
    {
     "data": {
      "text/plain": [
       "False"
      ]
     },
     "execution_count": 41,
     "metadata": {},
     "output_type": "execute_result"
    }
   ],
   "source": [
    "#inclusion\n",
    "c <= d"
   ]
  },
  {
   "cell_type": "markdown",
   "id": "cb61d675",
   "metadata": {},
   "source": [
    "## deque"
   ]
  },
  {
   "cell_type": "code",
   "execution_count": 42,
   "id": "fd137a77",
   "metadata": {},
   "outputs": [
    {
     "name": "stdout",
     "output_type": "stream",
     "text": [
      "A\n",
      "B\n",
      "C\n",
      "D\n"
     ]
    }
   ],
   "source": [
    "from collections import deque\n",
    "d = deque(\"abcd\")\n",
    "for ele in d:\n",
    "    print(ele.upper())\n",
    "    "
   ]
  },
  {
   "cell_type": "code",
   "execution_count": 43,
   "id": "4e2a6130",
   "metadata": {},
   "outputs": [
    {
     "data": {
      "text/plain": [
       "deque(['A', 'a', 'b', 'c', 'd', 'E'])"
      ]
     },
     "execution_count": 43,
     "metadata": {},
     "output_type": "execute_result"
    }
   ],
   "source": [
    "d.append('E')\n",
    "d.appendleft('A')\n",
    "d"
   ]
  },
  {
   "cell_type": "code",
   "execution_count": 44,
   "id": "e52c81a7",
   "metadata": {},
   "outputs": [
    {
     "data": {
      "text/plain": [
       "[('blue', [2, 4]), ('red', [1]), ('yellow', [1, 3])]"
      ]
     },
     "execution_count": 44,
     "metadata": {},
     "output_type": "execute_result"
    }
   ],
   "source": [
    "from collections import defaultdict\n",
    "\n",
    "s = [('yellow', 1), ('blue', 2), ('yellow', 3), ('blue', 4), ('red', 1)]\n",
    "d = defaultdict(list)\n",
    "for k, v in s:\n",
    "    d[k].append(v)\n",
    "    \n",
    "sorted(d.items())"
   ]
  },
  {
   "cell_type": "code",
   "execution_count": 45,
   "id": "780d057d",
   "metadata": {},
   "outputs": [
    {
     "data": {
      "text/plain": [
       "[('i', 4), ('m', 1), ('p', 2), ('s', 4)]"
      ]
     },
     "execution_count": 45,
     "metadata": {},
     "output_type": "execute_result"
    }
   ],
   "source": [
    "s = 'mississippi'\n",
    "d = defaultdict(int)\n",
    "for k in s:\n",
    "    d[k] += 1\n",
    "    \n",
    "sorted(d.items())"
   ]
  },
  {
   "cell_type": "markdown",
   "id": "cf3ea883",
   "metadata": {},
   "source": [
    "## Ordereddict"
   ]
  },
  {
   "cell_type": "code",
   "execution_count": 46,
   "id": "cf9805b2",
   "metadata": {},
   "outputs": [
    {
     "data": {
      "text/plain": [
       "'acdeb'"
      ]
     },
     "execution_count": 46,
     "metadata": {},
     "output_type": "execute_result"
    }
   ],
   "source": [
    "from collections import OrderedDict\n",
    "\n",
    "d = OrderedDict.fromkeys('abcde')\n",
    "d.move_to_end('b')\n",
    "''.join(d)"
   ]
  },
  {
   "cell_type": "code",
   "execution_count": 47,
   "id": "e9a48da9",
   "metadata": {},
   "outputs": [
    {
     "data": {
      "text/plain": [
       "'bacde'"
      ]
     },
     "execution_count": 47,
     "metadata": {},
     "output_type": "execute_result"
    }
   ],
   "source": [
    "d.move_to_end('b', last=False)\n",
    "''.join(d)"
   ]
  },
  {
   "cell_type": "code",
   "execution_count": null,
   "id": "6f2ba4fa",
   "metadata": {},
   "outputs": [],
   "source": []
  }
 ],
 "metadata": {
  "kernelspec": {
   "display_name": "Python 3 (ipykernel)",
   "language": "python",
   "name": "python3"
  },
  "language_info": {
   "codemirror_mode": {
    "name": "ipython",
    "version": 3
   },
   "file_extension": ".py",
   "mimetype": "text/x-python",
   "name": "python",
   "nbconvert_exporter": "python",
   "pygments_lexer": "ipython3",
   "version": "3.11.4"
  }
 },
 "nbformat": 4,
 "nbformat_minor": 5
}
